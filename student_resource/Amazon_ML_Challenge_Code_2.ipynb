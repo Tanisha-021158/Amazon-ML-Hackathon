{
  "nbformat": 4,
  "nbformat_minor": 0,
  "metadata": {
    "colab": {
      "provenance": [],
      "gpuType": "T4"
    },
    "kernelspec": {
      "name": "python3",
      "display_name": "Python 3"
    },
    "language_info": {
      "name": "python"
    },
    "accelerator": "GPU"
  },
  "cells": [
    {
      "cell_type": "code",
      "execution_count": 1,
      "metadata": {
        "id": "LvQntpS3eWfD"
      },
      "outputs": [],
      "source": [
        "from google.colab import drive\n",
        "import pandas as pd\n",
        "import numpy as np\n",
        "import os"
      ]
    },
    {
      "cell_type": "code",
      "source": [
        "drive.mount('/content/drive')"
      ],
      "metadata": {
        "colab": {
          "base_uri": "https://localhost:8080/"
        },
        "id": "UFr7QwDSg325",
        "outputId": "16c9cb79-80b7-492b-8803-ea50054d47ce"
      },
      "execution_count": 2,
      "outputs": [
        {
          "output_type": "stream",
          "name": "stdout",
          "text": [
            "Drive already mounted at /content/drive; to attempt to forcibly remount, call drive.mount(\"/content/drive\", force_remount=True).\n"
          ]
        }
      ]
    },
    {
      "cell_type": "code",
      "source": [
        "drive_path = '/content/drive/My Drive'"
      ],
      "metadata": {
        "id": "IB0oLEyWg7Hv"
      },
      "execution_count": 3,
      "outputs": []
    },
    {
      "cell_type": "code",
      "source": [
        "all_image_features = np.load(os.path.join(drive_path, 'all_image_features.npy'), allow_pickle=True).item()"
      ],
      "metadata": {
        "id": "h_Cz0yfghFzh"
      },
      "execution_count": 4,
      "outputs": []
    },
    {
      "cell_type": "code",
      "source": [
        "train_df = pd.read_csv('train_preprocessed.csv')\n",
        "test_df = pd.read_csv('test_preprocessed.csv')"
      ],
      "metadata": {
        "id": "OKUURllvhO46"
      },
      "execution_count": 5,
      "outputs": []
    },
    {
      "cell_type": "code",
      "source": [
        "from sklearn.feature_extraction.text import TfidfVectorizer\n",
        "import lightgbm as lgb\n",
        "from scipy.sparse import hstack"
      ],
      "metadata": {
        "id": "k9gIWZLAhe-x"
      },
      "execution_count": 6,
      "outputs": []
    },
    {
      "cell_type": "code",
      "source": [
        "image_filenames = list(all_image_features.keys())\n",
        "image_feature_vectors = np.array(list(all_image_features.values()))"
      ],
      "metadata": {
        "id": "6qWf2RJPhxwG"
      },
      "execution_count": 7,
      "outputs": []
    },
    {
      "cell_type": "code",
      "source": [
        "print(f\"Shape of image feature vectors: {image_feature_vectors.shape}\")"
      ],
      "metadata": {
        "colab": {
          "base_uri": "https://localhost:8080/"
        },
        "id": "l1cmLPNSlg7o",
        "outputId": "5b455a6f-f515-4df2-a076-d7f72d913dac"
      },
      "execution_count": 8,
      "outputs": [
        {
          "output_type": "stream",
          "name": "stdout",
          "text": [
            "Shape of image feature vectors: (140564, 2048)\n"
          ]
        }
      ]
    },
    {
      "cell_type": "code",
      "source": [
        "print(f\"Number of image filenames: {len(image_filenames)}\")"
      ],
      "metadata": {
        "colab": {
          "base_uri": "https://localhost:8080/"
        },
        "id": "4hx96SgClnt-",
        "outputId": "8c4015e2-0c48-4181-dd9a-06b9775efaff"
      },
      "execution_count": 9,
      "outputs": [
        {
          "output_type": "stream",
          "name": "stdout",
          "text": [
            "Number of image filenames: 140564\n"
          ]
        }
      ]
    },
    {
      "cell_type": "code",
      "source": [
        "image_features_df = pd.DataFrame(image_feature_vectors, index=image_filenames)\n",
        "image_features_df.index.name = 'filename'"
      ],
      "metadata": {
        "id": "6IraTEG-itzN"
      },
      "execution_count": 10,
      "outputs": []
    },
    {
      "cell_type": "code",
      "source": [
        "image_features_df.head()"
      ],
      "metadata": {
        "colab": {
          "base_uri": "https://localhost:8080/",
          "height": 287
        },
        "id": "s5CBVXljmgQ-",
        "outputId": "bebcabcf-6a73-4f3d-af36-f1b4fb476f09"
      },
      "execution_count": 11,
      "outputs": [
        {
          "output_type": "execute_result",
          "data": {
            "text/plain": [
              "                     0         1         2         3         4         5     \\\n",
              "filename                                                                      \n",
              "81HBeypM9OL.jpg  0.345448  0.456050  0.988337  0.188612  1.000779  0.882697   \n",
              "810csPIv4ML.jpg  0.454637  2.012997  0.054166  0.197275  1.565557  0.391016   \n",
              "6101ttR-AYL.jpg  0.484811  1.458574  0.069766  0.000352  0.866891  0.236085   \n",
              "61NBIHn2h2L.jpg  0.073060  2.343555  0.076419  0.007601  0.797889  0.610318   \n",
              "71zXpZMpAXL.jpg  0.718636  0.452312  0.414025  0.102791  0.555732  1.556470   \n",
              "\n",
              "                     6         7         8         9     ...      2038  \\\n",
              "filename                                                 ...             \n",
              "81HBeypM9OL.jpg  0.284630  0.178169  0.913208  0.174903  ...  0.343704   \n",
              "810csPIv4ML.jpg  0.379122  0.000000  0.899287  0.111666  ...  1.132990   \n",
              "6101ttR-AYL.jpg  0.923649  0.148647  1.097531  0.172585  ...  0.954126   \n",
              "61NBIHn2h2L.jpg  0.472866  0.150804  0.255709  0.307382  ...  1.641964   \n",
              "71zXpZMpAXL.jpg  0.295050  0.192128  0.072017  0.022006  ...  0.230032   \n",
              "\n",
              "                     2039      2040      2041      2042      2043      2044  \\\n",
              "filename                                                                      \n",
              "81HBeypM9OL.jpg  0.365218  0.503408  0.772206  0.450264  0.022612  0.786766   \n",
              "810csPIv4ML.jpg  0.085762  0.614638  0.066585  0.421780  0.064931  0.826992   \n",
              "6101ttR-AYL.jpg  0.139147  0.311189  0.424142  0.037661  0.162902  0.316644   \n",
              "61NBIHn2h2L.jpg  0.236993  0.588280  0.240443  0.023469  0.123733  0.721824   \n",
              "71zXpZMpAXL.jpg  0.054227  0.802946  0.030594  0.414451  0.012609  0.181495   \n",
              "\n",
              "                     2045      2046      2047  \n",
              "filename                                       \n",
              "81HBeypM9OL.jpg  0.198780  0.568652  0.551720  \n",
              "810csPIv4ML.jpg  0.535516  0.021000  0.137041  \n",
              "6101ttR-AYL.jpg  0.052916  0.537284  1.053032  \n",
              "61NBIHn2h2L.jpg  0.131618  0.071839  0.093984  \n",
              "71zXpZMpAXL.jpg  0.134494  0.914550  0.180633  \n",
              "\n",
              "[5 rows x 2048 columns]"
            ],
            "text/html": [
              "\n",
              "  <div id=\"df-5854bf2c-5e03-41f2-ad44-9e1dd2108286\" class=\"colab-df-container\">\n",
              "    <div>\n",
              "<style scoped>\n",
              "    .dataframe tbody tr th:only-of-type {\n",
              "        vertical-align: middle;\n",
              "    }\n",
              "\n",
              "    .dataframe tbody tr th {\n",
              "        vertical-align: top;\n",
              "    }\n",
              "\n",
              "    .dataframe thead th {\n",
              "        text-align: right;\n",
              "    }\n",
              "</style>\n",
              "<table border=\"1\" class=\"dataframe\">\n",
              "  <thead>\n",
              "    <tr style=\"text-align: right;\">\n",
              "      <th></th>\n",
              "      <th>0</th>\n",
              "      <th>1</th>\n",
              "      <th>2</th>\n",
              "      <th>3</th>\n",
              "      <th>4</th>\n",
              "      <th>5</th>\n",
              "      <th>6</th>\n",
              "      <th>7</th>\n",
              "      <th>8</th>\n",
              "      <th>9</th>\n",
              "      <th>...</th>\n",
              "      <th>2038</th>\n",
              "      <th>2039</th>\n",
              "      <th>2040</th>\n",
              "      <th>2041</th>\n",
              "      <th>2042</th>\n",
              "      <th>2043</th>\n",
              "      <th>2044</th>\n",
              "      <th>2045</th>\n",
              "      <th>2046</th>\n",
              "      <th>2047</th>\n",
              "    </tr>\n",
              "    <tr>\n",
              "      <th>filename</th>\n",
              "      <th></th>\n",
              "      <th></th>\n",
              "      <th></th>\n",
              "      <th></th>\n",
              "      <th></th>\n",
              "      <th></th>\n",
              "      <th></th>\n",
              "      <th></th>\n",
              "      <th></th>\n",
              "      <th></th>\n",
              "      <th></th>\n",
              "      <th></th>\n",
              "      <th></th>\n",
              "      <th></th>\n",
              "      <th></th>\n",
              "      <th></th>\n",
              "      <th></th>\n",
              "      <th></th>\n",
              "      <th></th>\n",
              "      <th></th>\n",
              "      <th></th>\n",
              "    </tr>\n",
              "  </thead>\n",
              "  <tbody>\n",
              "    <tr>\n",
              "      <th>81HBeypM9OL.jpg</th>\n",
              "      <td>0.345448</td>\n",
              "      <td>0.456050</td>\n",
              "      <td>0.988337</td>\n",
              "      <td>0.188612</td>\n",
              "      <td>1.000779</td>\n",
              "      <td>0.882697</td>\n",
              "      <td>0.284630</td>\n",
              "      <td>0.178169</td>\n",
              "      <td>0.913208</td>\n",
              "      <td>0.174903</td>\n",
              "      <td>...</td>\n",
              "      <td>0.343704</td>\n",
              "      <td>0.365218</td>\n",
              "      <td>0.503408</td>\n",
              "      <td>0.772206</td>\n",
              "      <td>0.450264</td>\n",
              "      <td>0.022612</td>\n",
              "      <td>0.786766</td>\n",
              "      <td>0.198780</td>\n",
              "      <td>0.568652</td>\n",
              "      <td>0.551720</td>\n",
              "    </tr>\n",
              "    <tr>\n",
              "      <th>810csPIv4ML.jpg</th>\n",
              "      <td>0.454637</td>\n",
              "      <td>2.012997</td>\n",
              "      <td>0.054166</td>\n",
              "      <td>0.197275</td>\n",
              "      <td>1.565557</td>\n",
              "      <td>0.391016</td>\n",
              "      <td>0.379122</td>\n",
              "      <td>0.000000</td>\n",
              "      <td>0.899287</td>\n",
              "      <td>0.111666</td>\n",
              "      <td>...</td>\n",
              "      <td>1.132990</td>\n",
              "      <td>0.085762</td>\n",
              "      <td>0.614638</td>\n",
              "      <td>0.066585</td>\n",
              "      <td>0.421780</td>\n",
              "      <td>0.064931</td>\n",
              "      <td>0.826992</td>\n",
              "      <td>0.535516</td>\n",
              "      <td>0.021000</td>\n",
              "      <td>0.137041</td>\n",
              "    </tr>\n",
              "    <tr>\n",
              "      <th>6101ttR-AYL.jpg</th>\n",
              "      <td>0.484811</td>\n",
              "      <td>1.458574</td>\n",
              "      <td>0.069766</td>\n",
              "      <td>0.000352</td>\n",
              "      <td>0.866891</td>\n",
              "      <td>0.236085</td>\n",
              "      <td>0.923649</td>\n",
              "      <td>0.148647</td>\n",
              "      <td>1.097531</td>\n",
              "      <td>0.172585</td>\n",
              "      <td>...</td>\n",
              "      <td>0.954126</td>\n",
              "      <td>0.139147</td>\n",
              "      <td>0.311189</td>\n",
              "      <td>0.424142</td>\n",
              "      <td>0.037661</td>\n",
              "      <td>0.162902</td>\n",
              "      <td>0.316644</td>\n",
              "      <td>0.052916</td>\n",
              "      <td>0.537284</td>\n",
              "      <td>1.053032</td>\n",
              "    </tr>\n",
              "    <tr>\n",
              "      <th>61NBIHn2h2L.jpg</th>\n",
              "      <td>0.073060</td>\n",
              "      <td>2.343555</td>\n",
              "      <td>0.076419</td>\n",
              "      <td>0.007601</td>\n",
              "      <td>0.797889</td>\n",
              "      <td>0.610318</td>\n",
              "      <td>0.472866</td>\n",
              "      <td>0.150804</td>\n",
              "      <td>0.255709</td>\n",
              "      <td>0.307382</td>\n",
              "      <td>...</td>\n",
              "      <td>1.641964</td>\n",
              "      <td>0.236993</td>\n",
              "      <td>0.588280</td>\n",
              "      <td>0.240443</td>\n",
              "      <td>0.023469</td>\n",
              "      <td>0.123733</td>\n",
              "      <td>0.721824</td>\n",
              "      <td>0.131618</td>\n",
              "      <td>0.071839</td>\n",
              "      <td>0.093984</td>\n",
              "    </tr>\n",
              "    <tr>\n",
              "      <th>71zXpZMpAXL.jpg</th>\n",
              "      <td>0.718636</td>\n",
              "      <td>0.452312</td>\n",
              "      <td>0.414025</td>\n",
              "      <td>0.102791</td>\n",
              "      <td>0.555732</td>\n",
              "      <td>1.556470</td>\n",
              "      <td>0.295050</td>\n",
              "      <td>0.192128</td>\n",
              "      <td>0.072017</td>\n",
              "      <td>0.022006</td>\n",
              "      <td>...</td>\n",
              "      <td>0.230032</td>\n",
              "      <td>0.054227</td>\n",
              "      <td>0.802946</td>\n",
              "      <td>0.030594</td>\n",
              "      <td>0.414451</td>\n",
              "      <td>0.012609</td>\n",
              "      <td>0.181495</td>\n",
              "      <td>0.134494</td>\n",
              "      <td>0.914550</td>\n",
              "      <td>0.180633</td>\n",
              "    </tr>\n",
              "  </tbody>\n",
              "</table>\n",
              "<p>5 rows × 2048 columns</p>\n",
              "</div>\n",
              "    <div class=\"colab-df-buttons\">\n",
              "\n",
              "  <div class=\"colab-df-container\">\n",
              "    <button class=\"colab-df-convert\" onclick=\"convertToInteractive('df-5854bf2c-5e03-41f2-ad44-9e1dd2108286')\"\n",
              "            title=\"Convert this dataframe to an interactive table.\"\n",
              "            style=\"display:none;\">\n",
              "\n",
              "  <svg xmlns=\"http://www.w3.org/2000/svg\" height=\"24px\" viewBox=\"0 -960 960 960\">\n",
              "    <path d=\"M120-120v-720h720v720H120Zm60-500h600v-160H180v160Zm220 220h160v-160H400v160Zm0 220h160v-160H400v160ZM180-400h160v-160H180v160Zm440 0h160v-160H620v160ZM180-180h160v-160H180v160Zm440 0h160v-160H620v160Z\"/>\n",
              "  </svg>\n",
              "    </button>\n",
              "\n",
              "  <style>\n",
              "    .colab-df-container {\n",
              "      display:flex;\n",
              "      gap: 12px;\n",
              "    }\n",
              "\n",
              "    .colab-df-convert {\n",
              "      background-color: #E8F0FE;\n",
              "      border: none;\n",
              "      border-radius: 50%;\n",
              "      cursor: pointer;\n",
              "      display: none;\n",
              "      fill: #1967D2;\n",
              "      height: 32px;\n",
              "      padding: 0 0 0 0;\n",
              "      width: 32px;\n",
              "    }\n",
              "\n",
              "    .colab-df-convert:hover {\n",
              "      background-color: #E2EBFA;\n",
              "      box-shadow: 0px 1px 2px rgba(60, 64, 67, 0.3), 0px 1px 3px 1px rgba(60, 64, 67, 0.15);\n",
              "      fill: #174EA6;\n",
              "    }\n",
              "\n",
              "    .colab-df-buttons div {\n",
              "      margin-bottom: 4px;\n",
              "    }\n",
              "\n",
              "    [theme=dark] .colab-df-convert {\n",
              "      background-color: #3B4455;\n",
              "      fill: #D2E3FC;\n",
              "    }\n",
              "\n",
              "    [theme=dark] .colab-df-convert:hover {\n",
              "      background-color: #434B5C;\n",
              "      box-shadow: 0px 1px 3px 1px rgba(0, 0, 0, 0.15);\n",
              "      filter: drop-shadow(0px 1px 2px rgba(0, 0, 0, 0.3));\n",
              "      fill: #FFFFFF;\n",
              "    }\n",
              "  </style>\n",
              "\n",
              "    <script>\n",
              "      const buttonEl =\n",
              "        document.querySelector('#df-5854bf2c-5e03-41f2-ad44-9e1dd2108286 button.colab-df-convert');\n",
              "      buttonEl.style.display =\n",
              "        google.colab.kernel.accessAllowed ? 'block' : 'none';\n",
              "\n",
              "      async function convertToInteractive(key) {\n",
              "        const element = document.querySelector('#df-5854bf2c-5e03-41f2-ad44-9e1dd2108286');\n",
              "        const dataTable =\n",
              "          await google.colab.kernel.invokeFunction('convertToInteractive',\n",
              "                                                    [key], {});\n",
              "        if (!dataTable) return;\n",
              "\n",
              "        const docLinkHtml = 'Like what you see? Visit the ' +\n",
              "          '<a target=\"_blank\" href=https://colab.research.google.com/notebooks/data_table.ipynb>data table notebook</a>'\n",
              "          + ' to learn more about interactive tables.';\n",
              "        element.innerHTML = '';\n",
              "        dataTable['output_type'] = 'display_data';\n",
              "        await google.colab.output.renderOutput(dataTable, element);\n",
              "        const docLink = document.createElement('div');\n",
              "        docLink.innerHTML = docLinkHtml;\n",
              "        element.appendChild(docLink);\n",
              "      }\n",
              "    </script>\n",
              "  </div>\n",
              "\n",
              "\n",
              "    <div id=\"df-4c00e1fd-02e9-46a9-ae4b-0802d865f34f\">\n",
              "      <button class=\"colab-df-quickchart\" onclick=\"quickchart('df-4c00e1fd-02e9-46a9-ae4b-0802d865f34f')\"\n",
              "                title=\"Suggest charts\"\n",
              "                style=\"display:none;\">\n",
              "\n",
              "<svg xmlns=\"http://www.w3.org/2000/svg\" height=\"24px\"viewBox=\"0 0 24 24\"\n",
              "     width=\"24px\">\n",
              "    <g>\n",
              "        <path d=\"M19 3H5c-1.1 0-2 .9-2 2v14c0 1.1.9 2 2 2h14c1.1 0 2-.9 2-2V5c0-1.1-.9-2-2-2zM9 17H7v-7h2v7zm4 0h-2V7h2v10zm4 0h-2v-4h2v4z\"/>\n",
              "    </g>\n",
              "</svg>\n",
              "      </button>\n",
              "\n",
              "<style>\n",
              "  .colab-df-quickchart {\n",
              "      --bg-color: #E8F0FE;\n",
              "      --fill-color: #1967D2;\n",
              "      --hover-bg-color: #E2EBFA;\n",
              "      --hover-fill-color: #174EA6;\n",
              "      --disabled-fill-color: #AAA;\n",
              "      --disabled-bg-color: #DDD;\n",
              "  }\n",
              "\n",
              "  [theme=dark] .colab-df-quickchart {\n",
              "      --bg-color: #3B4455;\n",
              "      --fill-color: #D2E3FC;\n",
              "      --hover-bg-color: #434B5C;\n",
              "      --hover-fill-color: #FFFFFF;\n",
              "      --disabled-bg-color: #3B4455;\n",
              "      --disabled-fill-color: #666;\n",
              "  }\n",
              "\n",
              "  .colab-df-quickchart {\n",
              "    background-color: var(--bg-color);\n",
              "    border: none;\n",
              "    border-radius: 50%;\n",
              "    cursor: pointer;\n",
              "    display: none;\n",
              "    fill: var(--fill-color);\n",
              "    height: 32px;\n",
              "    padding: 0;\n",
              "    width: 32px;\n",
              "  }\n",
              "\n",
              "  .colab-df-quickchart:hover {\n",
              "    background-color: var(--hover-bg-color);\n",
              "    box-shadow: 0 1px 2px rgba(60, 64, 67, 0.3), 0 1px 3px 1px rgba(60, 64, 67, 0.15);\n",
              "    fill: var(--button-hover-fill-color);\n",
              "  }\n",
              "\n",
              "  .colab-df-quickchart-complete:disabled,\n",
              "  .colab-df-quickchart-complete:disabled:hover {\n",
              "    background-color: var(--disabled-bg-color);\n",
              "    fill: var(--disabled-fill-color);\n",
              "    box-shadow: none;\n",
              "  }\n",
              "\n",
              "  .colab-df-spinner {\n",
              "    border: 2px solid var(--fill-color);\n",
              "    border-color: transparent;\n",
              "    border-bottom-color: var(--fill-color);\n",
              "    animation:\n",
              "      spin 1s steps(1) infinite;\n",
              "  }\n",
              "\n",
              "  @keyframes spin {\n",
              "    0% {\n",
              "      border-color: transparent;\n",
              "      border-bottom-color: var(--fill-color);\n",
              "      border-left-color: var(--fill-color);\n",
              "    }\n",
              "    20% {\n",
              "      border-color: transparent;\n",
              "      border-left-color: var(--fill-color);\n",
              "      border-top-color: var(--fill-color);\n",
              "    }\n",
              "    30% {\n",
              "      border-color: transparent;\n",
              "      border-left-color: var(--fill-color);\n",
              "      border-top-color: var(--fill-color);\n",
              "      border-right-color: var(--fill-color);\n",
              "    }\n",
              "    40% {\n",
              "      border-color: transparent;\n",
              "      border-right-color: var(--fill-color);\n",
              "      border-top-color: var(--fill-color);\n",
              "    }\n",
              "    60% {\n",
              "      border-color: transparent;\n",
              "      border-right-color: var(--fill-color);\n",
              "    }\n",
              "    80% {\n",
              "      border-color: transparent;\n",
              "      border-right-color: var(--fill-color);\n",
              "      border-bottom-color: var(--fill-color);\n",
              "    }\n",
              "    90% {\n",
              "      border-color: transparent;\n",
              "      border-bottom-color: var(--fill-color);\n",
              "    }\n",
              "  }\n",
              "</style>\n",
              "\n",
              "      <script>\n",
              "        async function quickchart(key) {\n",
              "          const quickchartButtonEl =\n",
              "            document.querySelector('#' + key + ' button');\n",
              "          quickchartButtonEl.disabled = true;  // To prevent multiple clicks.\n",
              "          quickchartButtonEl.classList.add('colab-df-spinner');\n",
              "          try {\n",
              "            const charts = await google.colab.kernel.invokeFunction(\n",
              "                'suggestCharts', [key], {});\n",
              "          } catch (error) {\n",
              "            console.error('Error during call to suggestCharts:', error);\n",
              "          }\n",
              "          quickchartButtonEl.classList.remove('colab-df-spinner');\n",
              "          quickchartButtonEl.classList.add('colab-df-quickchart-complete');\n",
              "        }\n",
              "        (() => {\n",
              "          let quickchartButtonEl =\n",
              "            document.querySelector('#df-4c00e1fd-02e9-46a9-ae4b-0802d865f34f button');\n",
              "          quickchartButtonEl.style.display =\n",
              "            google.colab.kernel.accessAllowed ? 'block' : 'none';\n",
              "        })();\n",
              "      </script>\n",
              "    </div>\n",
              "\n",
              "    </div>\n",
              "  </div>\n"
            ],
            "application/vnd.google.colaboratory.intrinsic+json": {
              "type": "dataframe",
              "variable_name": "image_features_df"
            }
          },
          "metadata": {},
          "execution_count": 11
        }
      ]
    },
    {
      "cell_type": "code",
      "source": [
        "train_df.shape"
      ],
      "metadata": {
        "colab": {
          "base_uri": "https://localhost:8080/"
        },
        "id": "N-0uLyUwmqAy",
        "outputId": "09e2ea73-e870-4ed1-cc76-ea6745749823"
      },
      "execution_count": 12,
      "outputs": [
        {
          "output_type": "execute_result",
          "data": {
            "text/plain": [
              "(75000, 7)"
            ]
          },
          "metadata": {},
          "execution_count": 12
        }
      ]
    },
    {
      "cell_type": "code",
      "source": [
        "test_df.shape"
      ],
      "metadata": {
        "colab": {
          "base_uri": "https://localhost:8080/"
        },
        "id": "jnuSKvXUmtol",
        "outputId": "2c7c36bf-db87-415e-9a8e-1b13bcc2ab70"
      },
      "execution_count": 13,
      "outputs": [
        {
          "output_type": "execute_result",
          "data": {
            "text/plain": [
              "(75000, 4)"
            ]
          },
          "metadata": {},
          "execution_count": 13
        }
      ]
    },
    {
      "cell_type": "code",
      "source": [
        "all_df = pd.concat([train_df, test_df], ignore_index=True)"
      ],
      "metadata": {
        "id": "d3VGBazHixjp"
      },
      "execution_count": 14,
      "outputs": []
    },
    {
      "cell_type": "code",
      "source": [
        "all_df.shape"
      ],
      "metadata": {
        "colab": {
          "base_uri": "https://localhost:8080/"
        },
        "id": "YeKVlcm9mw8c",
        "outputId": "8d3ba6a0-1d69-4c2a-968e-1292bb6afda7"
      },
      "execution_count": 15,
      "outputs": [
        {
          "output_type": "execute_result",
          "data": {
            "text/plain": [
              "(150000, 7)"
            ]
          },
          "metadata": {},
          "execution_count": 15
        }
      ]
    },
    {
      "cell_type": "code",
      "source": [
        "image_features_df.shape"
      ],
      "metadata": {
        "colab": {
          "base_uri": "https://localhost:8080/"
        },
        "id": "FLIVwRvci1Vb",
        "outputId": "a7b62643-38e3-42e5-89cb-8a161515a7fd"
      },
      "execution_count": 16,
      "outputs": [
        {
          "output_type": "execute_result",
          "data": {
            "text/plain": [
              "(140564, 2048)"
            ]
          },
          "metadata": {},
          "execution_count": 16
        }
      ]
    },
    {
      "cell_type": "code",
      "source": [
        "all_df['price'].isna().sum()"
      ],
      "metadata": {
        "colab": {
          "base_uri": "https://localhost:8080/"
        },
        "id": "D9lytWH6nCM1",
        "outputId": "7a41a969-b740-4244-a4fe-9e5275c5ed64"
      },
      "execution_count": 17,
      "outputs": [
        {
          "output_type": "execute_result",
          "data": {
            "text/plain": [
              "np.int64(75000)"
            ]
          },
          "metadata": {},
          "execution_count": 17
        }
      ]
    },
    {
      "cell_type": "code",
      "source": [
        "all_df['filename'] = all_df['image_link'].apply(lambda x: os.path.basename(x))"
      ],
      "metadata": {
        "id": "FS0pC_a0i-9i"
      },
      "execution_count": 18,
      "outputs": []
    },
    {
      "cell_type": "code",
      "source": [
        "final_all_df = all_df.merge(image_features_df, on='filename', how='left')"
      ],
      "metadata": {
        "id": "w5Un7WzUj5dO"
      },
      "execution_count": 19,
      "outputs": []
    },
    {
      "cell_type": "code",
      "source": [
        "final_all_df.info()"
      ],
      "metadata": {
        "colab": {
          "base_uri": "https://localhost:8080/"
        },
        "id": "Pxj438kBpZW7",
        "outputId": "d6d1f058-2ff1-4ebd-e531-fc9af68c545d"
      },
      "execution_count": 20,
      "outputs": [
        {
          "output_type": "stream",
          "name": "stdout",
          "text": [
            "<class 'pandas.core.frame.DataFrame'>\n",
            "RangeIndex: 150000 entries, 0 to 149999\n",
            "Columns: 2056 entries, sample_id to 2047\n",
            "dtypes: float32(2048), float64(3), int64(1), object(4)\n",
            "memory usage: 1.2+ GB\n"
          ]
        }
      ]
    },
    {
      "cell_type": "code",
      "source": [
        "final_all_df.shape"
      ],
      "metadata": {
        "colab": {
          "base_uri": "https://localhost:8080/"
        },
        "id": "2OGtvVydpipF",
        "outputId": "8ec4e393-d31f-46f0-eaba-ca281cb2b86f"
      },
      "execution_count": 21,
      "outputs": [
        {
          "output_type": "execute_result",
          "data": {
            "text/plain": [
              "(150000, 2056)"
            ]
          },
          "metadata": {},
          "execution_count": 21
        }
      ]
    },
    {
      "cell_type": "code",
      "source": [
        "image_feature_cols = [col for col in final_all_df.columns if isinstance(col, (int, float))]"
      ],
      "metadata": {
        "id": "WPBbli3Qpree"
      },
      "execution_count": 22,
      "outputs": []
    },
    {
      "cell_type": "code",
      "source": [
        "non_image_feature_cols = [col for col in final_all_df.columns if not isinstance(col, (int, float))]\n",
        "\n",
        "# Print the list of image feature columns (a small sample)\n",
        "print(\"--- Image Feature Columns (First 5) ---\")\n",
        "print(image_feature_cols[:5])\n",
        "\n",
        "# Print the list of non-image feature columns (all of them)\n",
        "print(\"\\n--- Non-Image Feature Columns ---\")\n",
        "print(non_image_feature_cols)"
      ],
      "metadata": {
        "colab": {
          "base_uri": "https://localhost:8080/"
        },
        "id": "y7pFcPp9pvT0",
        "outputId": "85d6800f-bed2-4df5-ae1d-3d4f43011c0a"
      },
      "execution_count": 23,
      "outputs": [
        {
          "output_type": "stream",
          "name": "stdout",
          "text": [
            "--- Image Feature Columns (First 5) ---\n",
            "[0, 1, 2, 3, 4]\n",
            "\n",
            "--- Non-Image Feature Columns ---\n",
            "['sample_id', 'catalog_content', 'image_link', 'price', 'word_count', 'log_price', 'clean_catalog_content', 'filename']\n"
          ]
        }
      ]
    },
    {
      "cell_type": "code",
      "source": [
        "final_all_df[image_feature_cols] = final_all_df[image_feature_cols].fillna(0)"
      ],
      "metadata": {
        "id": "u8zWn91TqKKb"
      },
      "execution_count": 24,
      "outputs": []
    },
    {
      "cell_type": "code",
      "source": [
        "test_ids = test_df['sample_id'].tolist()\n",
        "\n",
        "# Split the data back into final train and test sets\n",
        "train_df_final = final_all_df.loc[~final_all_df['sample_id'].isin(test_ids)].reset_index(drop=True)\n",
        "test_df_final = final_all_df.loc[final_all_df['sample_id'].isin(test_ids)].reset_index(drop=True)\n",
        "\n",
        "print(f\"Final training set shape: {train_df_final.shape}\")\n",
        "print(f\"Final test set shape: {test_df_final.shape}\")"
      ],
      "metadata": {
        "colab": {
          "base_uri": "https://localhost:8080/"
        },
        "id": "F2VuFeGdqTZ1",
        "outputId": "8f6e8ccc-e09a-4cc8-f9b1-3c7afa8c7d14"
      },
      "execution_count": 25,
      "outputs": [
        {
          "output_type": "stream",
          "name": "stdout",
          "text": [
            "Final training set shape: (75000, 2056)\n",
            "Final test set shape: (75000, 2056)\n"
          ]
        }
      ]
    },
    {
      "cell_type": "code",
      "source": [
        "import pandas as pd\n",
        "import numpy as np\n",
        "import os\n",
        "import lightgbm as lgb\n",
        "from sklearn.feature_extraction.text import TfidfVectorizer\n",
        "from scipy.sparse import hstack\n"
      ],
      "metadata": {
        "id": "16JXMpPxkdhF"
      },
      "execution_count": 26,
      "outputs": []
    },
    {
      "cell_type": "code",
      "source": [
        "X_train_text = train_df_final['clean_catalog_content']\n",
        "X_test_text = test_df_final['clean_catalog_content']\n",
        "y_train_log = train_df_final['log_price']"
      ],
      "metadata": {
        "id": "vz1RKmesrEKi"
      },
      "execution_count": 27,
      "outputs": []
    },
    {
      "cell_type": "code",
      "source": [
        "vectorizer = TfidfVectorizer(ngram_range=(1, 2), max_features=10000, stop_words='english')\n",
        "X_train_text_tfidf = vectorizer.fit_transform(X_train_text)\n",
        "X_test_text_tfidf = vectorizer.transform(X_test_text)"
      ],
      "metadata": {
        "id": "ZG_vznRErLD1"
      },
      "execution_count": 28,
      "outputs": []
    },
    {
      "cell_type": "code",
      "source": [
        "image_feature_cols = [col for col in train_df_final.columns if isinstance(col, (int, float))]\n",
        "X_train_image = train_df_final[image_feature_cols].values\n",
        "X_test_image = test_df_final[image_feature_cols].values"
      ],
      "metadata": {
        "id": "ptaaO-Q3rPsy"
      },
      "execution_count": 29,
      "outputs": []
    },
    {
      "cell_type": "code",
      "source": [
        "print(\"Training model on Text features...\")\n",
        "text_model = lgb.LGBMRegressor(\n",
        "    n_estimators=1000,\n",
        "    learning_rate=0.05,\n",
        "    num_leaves=31,\n",
        "    random_state=42,\n",
        "    n_jobs=-1,\n",
        "    verbose=-1\n",
        ")\n",
        "text_model.fit(X_train_text_tfidf, train_df_final['log_price'])\n",
        "text_preds_log = text_model.predict(X_test_text_tfidf)"
      ],
      "metadata": {
        "colab": {
          "base_uri": "https://localhost:8080/"
        },
        "id": "KoJIFtsPsQ9M",
        "outputId": "88915e1d-2c9d-4147-f213-20635fd25f69"
      },
      "execution_count": 30,
      "outputs": [
        {
          "output_type": "stream",
          "name": "stdout",
          "text": [
            "Training model on Text features...\n"
          ]
        },
        {
          "output_type": "stream",
          "name": "stderr",
          "text": [
            "/usr/local/lib/python3.12/dist-packages/sklearn/utils/validation.py:2739: UserWarning: X does not have valid feature names, but LGBMRegressor was fitted with feature names\n",
            "  warnings.warn(\n"
          ]
        }
      ]
    },
    {
      "cell_type": "code",
      "source": [
        "print(\"Training model on Image features...\")\n",
        "image_model = lgb.LGBMRegressor(\n",
        "    n_estimators=1000,\n",
        "    learning_rate=0.05,\n",
        "    num_leaves=31,\n",
        "    random_state=42,\n",
        "    n_jobs=-1,\n",
        "    verbose=-1\n",
        ")\n",
        "\n",
        "# Make sure X_train_image and X_test_image are dense NumPy arrays\n",
        "image_feature_cols = [col for col in train_df_final.columns if isinstance(col, (int, float))]\n",
        "X_train_image = train_df_final[image_feature_cols].values\n",
        "X_test_image = test_df_final[image_feature_cols].values\n",
        "\n",
        "image_model.fit(X_train_image, train_df_final['log_price'])\n",
        "print(\"Image model training complete!\")"
      ],
      "metadata": {
        "colab": {
          "base_uri": "https://localhost:8080/"
        },
        "id": "iSW1wVibvjAl",
        "outputId": "06f57ba1-5021-4502-ff19-bc6c39ba9372"
      },
      "execution_count": 31,
      "outputs": [
        {
          "output_type": "stream",
          "name": "stdout",
          "text": [
            "Training model on Image features...\n",
            "Image model training complete!\n"
          ]
        }
      ]
    },
    {
      "cell_type": "code",
      "source": [
        "# Assuming you have the text_preds_log and image_preds_log from the previous steps\n",
        "\n",
        "# Make predictions with the image model on the test data\n",
        "image_preds_log = image_model.predict(X_test_image)\n",
        "\n",
        "# Combine the predictions from both models\n",
        "# We'll use a simple average (50/50 split)\n",
        "print(\"Combining predictions...\")\n",
        "final_predictions_log = (text_preds_log * 0.5) + (image_preds_log * 0.5)\n",
        "\n",
        "# Inverse transform the predictions from the log scale\n",
        "final_predictions = np.expm1(final_predictions_log)\n",
        "\n",
        "# Ensure all predictions are positive, as required\n",
        "final_predictions[final_predictions < 0] = 0.01"
      ],
      "metadata": {
        "colab": {
          "base_uri": "https://localhost:8080/"
        },
        "id": "VV6T_tLlvjaI",
        "outputId": "f33d5fb6-5ec0-4778-e83f-1b6af78b81ff"
      },
      "execution_count": 32,
      "outputs": [
        {
          "output_type": "stream",
          "name": "stderr",
          "text": [
            "/usr/local/lib/python3.12/dist-packages/sklearn/utils/validation.py:2739: UserWarning: X does not have valid feature names, but LGBMRegressor was fitted with feature names\n",
            "  warnings.warn(\n"
          ]
        },
        {
          "output_type": "stream",
          "name": "stdout",
          "text": [
            "Combining predictions...\n"
          ]
        }
      ]
    },
    {
      "cell_type": "code",
      "source": [
        "# Create the final submission file\n",
        "submission_df = pd.DataFrame({\n",
        "    'sample_id': test_df_final['sample_id'],\n",
        "    'price': final_predictions\n",
        "})\n",
        "\n",
        "# Save the submission file\n",
        "submission_df.to_csv('final_submission.csv', index=False)\n",
        "print(\"Final submission file created successfully as 'final_submission.csv'!\")"
      ],
      "metadata": {
        "colab": {
          "base_uri": "https://localhost:8080/"
        },
        "id": "9SiGK31O8aie",
        "outputId": "8ede4b5c-2f0f-47d9-c4b0-4cfdae172484"
      },
      "execution_count": 33,
      "outputs": [
        {
          "output_type": "stream",
          "name": "stdout",
          "text": [
            "Final submission file created successfully as 'final_submission.csv'!\n"
          ]
        }
      ]
    },
    {
      "cell_type": "code",
      "source": [
        "from sklearn.model_selection import train_test_split\n",
        "import pandas as pd\n",
        "import numpy as np\n",
        "import re\n",
        "import string\n",
        "from sklearn.feature_extraction.text import TfidfVectorizer\n",
        "import lightgbm as lgb\n",
        "from scipy.sparse import hstack\n",
        "import os\n",
        "\n",
        "# Assuming you have successfully created train_df_final as planned.\n",
        "\n",
        "# Select all features from the final combined DataFrame\n",
        "# We will drop the target variable and other columns not used for prediction\n",
        "X_all_features = train_df_final.drop(['price', 'log_price', 'sample_id', 'image_link', 'word_count', 'filename'], axis=1)\n",
        "\n",
        "# The target variable (log-transformed price)\n",
        "y_all_log = train_df_final['log_price']\n",
        "\n",
        "# Split the data into a training set and a validation set\n",
        "X_train_subset, X_val, y_train_log_subset, y_val_log = train_test_split(\n",
        "    X_all_features,\n",
        "    y_all_log,\n",
        "    test_size=0.2,\n",
        "    random_state=42\n",
        ")\n",
        "\n",
        "print(f\"New Training set size: {X_train_subset.shape[0]} rows\")\n",
        "print(f\"Validation set size: {X_val.shape[0]} rows\")\n",
        "\n",
        "# Now, you can correctly separate the features for the models\n",
        "# The 'clean_catalog_content' column exists in both X_train_subset and X_val\n",
        "\n",
        "# Create text features for training and validation\n",
        "vectorizer = TfidfVectorizer(ngram_range=(1, 2), max_features=10000, stop_words='english')\n",
        "X_train_subset_text_tfidf = vectorizer.fit_transform(X_train_subset['clean_catalog_content'])\n",
        "X_val_text_tfidf = vectorizer.transform(X_val['clean_catalog_content'])\n",
        "\n",
        "# Get image features for training and validation\n",
        "image_feature_cols = [col for col in X_train_subset.columns if isinstance(col, (int, float))]\n",
        "X_train_subset_image = X_train_subset[image_feature_cols].values\n",
        "X_val_image = X_val[image_feature_cols].values\n",
        "\n",
        "# The rest of your training and SMAPE calculation code will now work correctly.\n",
        "# You can copy and paste the training and prediction code from previous messages."
      ],
      "metadata": {
        "colab": {
          "base_uri": "https://localhost:8080/"
        },
        "id": "6h_1BQja9FwP",
        "outputId": "89540926-9136-4b80-db95-d6c2342cb0c1"
      },
      "execution_count": 37,
      "outputs": [
        {
          "output_type": "stream",
          "name": "stdout",
          "text": [
            "New Training set size: 60000 rows\n",
            "Validation set size: 15000 rows\n"
          ]
        }
      ]
    },
    {
      "cell_type": "code",
      "source": [
        "# Retrain the text model on the smaller training subset\n",
        "text_model.fit(X_train_subset_text_tfidf, y_train_log_subset)\n",
        "text_preds_val_log = text_model.predict(X_val_text_tfidf)\n",
        "\n",
        "# Retrain the image model on the smaller training subset\n",
        "image_model.fit(X_train_subset_image, y_train_log_subset)\n",
        "image_preds_val_log = image_model.predict(X_val_image)\n",
        "\n",
        "# Combine the predictions\n",
        "combined_preds_val_log = (text_preds_val_log * 0.5) + (image_preds_val_log * 0.5)\n",
        "\n",
        "# Inverse transform to get the final prices\n",
        "combined_preds_val = np.expm1(combined_preds_val_log)\n",
        "combined_preds_val[combined_preds_val < 0] = 0.01\n",
        "\n",
        "# Get the actual prices for comparison\n",
        "y_val = np.expm1(y_val_log)\n",
        "\n",
        "# Calculate SMAPE\n",
        "smape = smape_score(y_val, combined_preds_val)\n",
        "print(f\"Your model's SMAPE score on the validation set is: {smape:.2f}%\")"
      ],
      "metadata": {
        "colab": {
          "base_uri": "https://localhost:8080/",
          "height": 283
        },
        "id": "IB7LIfnR9VZt",
        "outputId": "be82f8b9-380c-4ac3-e7a1-bcbc43b1beae"
      },
      "execution_count": 38,
      "outputs": [
        {
          "output_type": "stream",
          "name": "stderr",
          "text": [
            "/usr/local/lib/python3.12/dist-packages/sklearn/utils/validation.py:2739: UserWarning: X does not have valid feature names, but LGBMRegressor was fitted with feature names\n",
            "  warnings.warn(\n",
            "/usr/local/lib/python3.12/dist-packages/sklearn/utils/validation.py:2739: UserWarning: X does not have valid feature names, but LGBMRegressor was fitted with feature names\n",
            "  warnings.warn(\n"
          ]
        },
        {
          "output_type": "error",
          "ename": "NameError",
          "evalue": "name 'smape_score' is not defined",
          "traceback": [
            "\u001b[0;31m---------------------------------------------------------------------------\u001b[0m",
            "\u001b[0;31mNameError\u001b[0m                                 Traceback (most recent call last)",
            "\u001b[0;32m/tmp/ipython-input-2277487817.py\u001b[0m in \u001b[0;36m<cell line: 0>\u001b[0;34m()\u001b[0m\n\u001b[1;32m     18\u001b[0m \u001b[0;34m\u001b[0m\u001b[0m\n\u001b[1;32m     19\u001b[0m \u001b[0;31m# Calculate SMAPE\u001b[0m\u001b[0;34m\u001b[0m\u001b[0;34m\u001b[0m\u001b[0m\n\u001b[0;32m---> 20\u001b[0;31m \u001b[0msmape\u001b[0m \u001b[0;34m=\u001b[0m \u001b[0msmape_score\u001b[0m\u001b[0;34m(\u001b[0m\u001b[0my_val\u001b[0m\u001b[0;34m,\u001b[0m \u001b[0mcombined_preds_val\u001b[0m\u001b[0;34m)\u001b[0m\u001b[0;34m\u001b[0m\u001b[0;34m\u001b[0m\u001b[0m\n\u001b[0m\u001b[1;32m     21\u001b[0m \u001b[0mprint\u001b[0m\u001b[0;34m(\u001b[0m\u001b[0;34mf\"Your model's SMAPE score on the validation set is: {smape:.2f}%\"\u001b[0m\u001b[0;34m)\u001b[0m\u001b[0;34m\u001b[0m\u001b[0;34m\u001b[0m\u001b[0m\n",
            "\u001b[0;31mNameError\u001b[0m: name 'smape_score' is not defined"
          ]
        }
      ]
    },
    {
      "cell_type": "code",
      "source": [
        "def smape_score(y_true, y_pred):\n",
        "    denominator = (np.abs(y_true) + np.abs(y_pred)) / 2\n",
        "    smape = np.mean(np.abs(y_pred - y_true) / denominator) * 100\n",
        "    return smape\n",
        "\n",
        "# Calculate SMAPE\n",
        "smape = smape_score(y_val, combined_preds_val)\n",
        "print(f\"Your model's SMAPE score on the validation set is: {smape:.2f}%\")"
      ],
      "metadata": {
        "colab": {
          "base_uri": "https://localhost:8080/"
        },
        "id": "1GtiBdxA9dWh",
        "outputId": "949d5f5a-40e6-4832-9a93-e303aac01384"
      },
      "execution_count": 39,
      "outputs": [
        {
          "output_type": "stream",
          "name": "stdout",
          "text": [
            "Your model's SMAPE score on the validation set is: 56.00%\n"
          ]
        }
      ]
    },
    {
      "cell_type": "code",
      "source": [],
      "metadata": {
        "id": "c1rABHGTBeU8"
      },
      "execution_count": null,
      "outputs": []
    }
  ]
}